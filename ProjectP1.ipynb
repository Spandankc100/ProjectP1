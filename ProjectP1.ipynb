{
 "cells": [
  {
   "cell_type": "code",
   "execution_count": 2,
   "id": "b82fc9e0-0d6a-4fe8-9891-76d1c4668428",
   "metadata": {},
   "outputs": [
    {
     "name": "stdout",
     "output_type": "stream",
     "text": [
      "Requirement already satisfied: requests in c:\\users\\at3571rj\\appdata\\local\\anaconda3\\envs\\polars\\lib\\site-packages (2.32.3)Note: you may need to restart the kernel to use updated packages.\n",
      "\n",
      "Requirement already satisfied: charset-normalizer<4,>=2 in c:\\users\\at3571rj\\appdata\\local\\anaconda3\\envs\\polars\\lib\\site-packages (from requests) (3.3.2)\n",
      "Requirement already satisfied: idna<4,>=2.5 in c:\\users\\at3571rj\\appdata\\local\\anaconda3\\envs\\polars\\lib\\site-packages (from requests) (3.8)\n",
      "Requirement already satisfied: urllib3<3,>=1.21.1 in c:\\users\\at3571rj\\appdata\\local\\anaconda3\\envs\\polars\\lib\\site-packages (from requests) (2.2.2)\n",
      "Requirement already satisfied: certifi>=2017.4.17 in c:\\users\\at3571rj\\appdata\\local\\anaconda3\\envs\\polars\\lib\\site-packages (from requests) (2024.8.30)\n"
     ]
    }
   ],
   "source": [
    "pip install requests\n"
   ]
  },
  {
   "cell_type": "markdown",
   "id": "07691195-7270-4aff-b1fd-eb9262915a6f",
   "metadata": {},
   "source": [
    "## Importing necessary libraries"
   ]
  },
  {
   "cell_type": "code",
   "execution_count": 21,
   "id": "dd5777b7-2118-49af-8c63-96aea3ca8f2c",
   "metadata": {},
   "outputs": [],
   "source": [
    "import requests  \n",
    "import zipfile\n",
    "import io\n",
    "import polars as pl\n",
    "from glob import glob\n",
    "import re\n"
   ]
  },
  {
   "cell_type": "markdown",
   "id": "aa5a88ff-7d6a-43b7-a6d3-5d26614cfc4f",
   "metadata": {},
   "source": [
    "# Download and unzip yearly CMS data from 2017 - 2024"
   ]
  },
  {
   "cell_type": "code",
   "execution_count": 22,
   "id": "dcf4ca5a-2dd3-4e20-980f-cb3158abdda8",
   "metadata": {},
   "outputs": [
    {
     "data": {
      "text/plain": [
       "[(2017,\n",
       "  'https://data.cms.gov/provider-data/sites/default/files/archive/Hospitals/2017/hospitals_archive_2017.zip'),\n",
       " (2018,\n",
       "  'https://data.cms.gov/provider-data/sites/default/files/archive/Hospitals/2018/hospitals_archive_2018.zip'),\n",
       " (2019,\n",
       "  'https://data.cms.gov/provider-data/sites/default/files/archive/Hospitals/2019/hospitals_archive_2019.zip'),\n",
       " (2020,\n",
       "  'https://data.cms.gov/provider-data/sites/default/files/archive/Hospitals/2020/hospitals_archive_2020.zip'),\n",
       " (2021,\n",
       "  'https://data.cms.gov/provider-data/sites/default/files/archive/Hospitals/2021/hospitals_2021.zip'),\n",
       " (2022,\n",
       "  'https://data.cms.gov/provider-data/sites/default/files/archive/Hospitals/2022/hospitals_2022.zip'),\n",
       " (2023,\n",
       "  'https://data.cms.gov/provider-data/sites/default/files/archive/Hospitals/2023/hospitals_2023.zip'),\n",
       " (2024,\n",
       "  'https://data.cms.gov/provider-data/sites/default/files/archive/Hospitals/2024/hospitals_2024.zip')]"
      ]
     },
     "execution_count": 22,
     "metadata": {},
     "output_type": "execute_result"
    }
   ],
   "source": [
    "urls=[(year,\n",
    "       f\"https://data.cms.gov/provider-data/sites/default/files/archive/Hospitals/{year}/hospitals{'_archive' if year <=2020 else ''}_{year}.zip\")\n",
    "      for year in range (2017,2025)]\n",
    "urls\n"
   ]
  },
  {
   "cell_type": "code",
   "execution_count": 23,
   "id": "61cd18ba-4333-4122-9c1c-d7449d1cad53",
   "metadata": {},
   "outputs": [
    {
     "name": "stdout",
     "output_type": "stream",
     "text": [
      "Successfully downloaded and unzipped 2017\n",
      "\n",
      "\n",
      "Successfully downloaded and unzipped 2018\n",
      "\n",
      "\n",
      "Successfully downloaded and unzipped 2019\n",
      "\n",
      "\n",
      "Successfully downloaded and unzipped 2020\n",
      "\n",
      "\n",
      "Successfully downloaded and unzipped 2021\n",
      "\n",
      "\n",
      "Successfully downloaded and unzipped 2022\n",
      "\n",
      "\n",
      "Successfully downloaded and unzipped 2023\n",
      "\n",
      "\n",
      "Successfully downloaded and unzipped 2024\n",
      "\n",
      "\n"
     ]
    }
   ],
   "source": [
    "for year, url in urls:\n",
    "    try:\n",
    "        r = requests.get(url)  # Corrected from 'requests-get' to 'requests.get'\n",
    "        assert r.ok\n",
    "        z = zipfile.ZipFile(io.BytesIO(r.content))\n",
    "        z.extractall(\"./data\")\n",
    "        print(f\"Successfully downloaded and unzipped {year}\\n\\n\")\n",
    "    except Exception as e:\n",
    "        print(f\"Problem with the zip file for {year}: {e}\\n\\n\")"
   ]
  },
  {
   "cell_type": "markdown",
   "id": "8c87063c-4741-44b9-b8d5-af1ce37748a2",
   "metadata": {},
   "source": [
    "# Unzip monthly files - Attempt 1"
   ]
  },
  {
   "cell_type": "code",
   "execution_count": 24,
   "id": "b446d751-a949-4212-bd1a-d77bd6bf5676",
   "metadata": {},
   "outputs": [
    {
     "name": "stdout",
     "output_type": "stream",
     "text": [
      "total 546044\n",
      "drwxrwxrwx 1 root root     4096 Oct 17 07:46 .\n",
      "drwxrwxrwx 1 root root     4096 Oct 17 07:46 ..\n",
      "-rwxrwxrwx 1 root root 51900380 Oct 17 07:46 hos_archive_04_2017.zip\n",
      "-rwxrwxrwx 1 root root 16666309 Oct 17 07:46 hos_revised_flatfiles_archive_01_2018.zip\n",
      "-rwxrwxrwx 1 root root 16188156 Oct 17 07:46 hos_revised_flatfiles_archive_01_2020.zip\n",
      "-rwxrwxrwx 1 root root 18544644 Oct 17 07:46 hos_revised_flatfiles_archive_03_2019.zip\n",
      "-rwxrwxrwx 1 root root 17177735 Oct 17 07:46 hos_revised_flatfiles_archive_04_2017.zip\n",
      "-rwxrwxrwx 1 root root 17719823 Oct 17 07:46 hos_revised_flatfiles_archive_04_2019.zip\n",
      "-rwxrwxrwx 1 root root 16306683 Oct 17 07:46 hos_revised_flatfiles_archive_04_2020.zip\n",
      "-rwxrwxrwx 1 root root 16097035 Oct 17 07:46 hos_revised_flatfiles_archive_05_2018.zip\n",
      "-rwxrwxrwx 1 root root 16941650 Oct 17 07:46 hos_revised_flatfiles_archive_07_2017.zip\n",
      "-rwxrwxrwx 1 root root 16203900 Oct 17 07:46 hos_revised_flatfiles_archive_07_2018.zip\n",
      "-rwxrwxrwx 1 root root 21768646 Oct 17 07:46 hos_revised_flatfiles_archive_07_2019.zip\n",
      "-rwxrwxrwx 1 root root 16385953 Oct 17 07:46 hos_revised_flatfiles_archive_10_2017.zip\n",
      "-rwxrwxrwx 1 root root 14889985 Oct 17 07:46 hos_revised_flatfiles_archive_10_2018.zip\n",
      "-rwxrwxrwx 1 root root 17056453 Oct 17 07:46 hos_revised_flatfiles_archive_10_2019.zip\n",
      "-rwxrwxrwx 1 root root 14617095 Oct 17 07:46 hospitals_01_2021.zip\n",
      "-rwxrwxrwx 1 root root 15878925 Oct 17 07:46 hospitals_01_2022.zip\n",
      "-rwxrwxrwx 1 root root 16142558 Oct 17 07:46 hospitals_01_2023.zip\n",
      "-rwxrwxrwx 1 root root 14240989 Oct 17 07:46 hospitals_01_2024.zip\n",
      "-rwxrwxrwx 1 root root 14415213 Oct 17 07:46 hospitals_03_2021.zip\n",
      "-rwxrwxrwx 1 root root 14625171 Oct 17 07:46 hospitals_04_2021.zip\n",
      "-rwxrwxrwx 1 root root 15985403 Oct 17 07:46 hospitals_04_2022.zip\n",
      "-rwxrwxrwx 1 root root 15903726 Oct 17 07:46 hospitals_04_2023.zip\n",
      "-rwxrwxrwx 1 root root 14171467 Oct 17 07:46 hospitals_04_2024.zip\n",
      "-rwxrwxrwx 1 root root 14374687 Oct 17 07:46 hospitals_07_2021.zip\n",
      "-rwxrwxrwx 1 root root 14788971 Oct 17 07:46 hospitals_07_2022.zip\n",
      "-rwxrwxrwx 1 root root 15880188 Oct 17 07:46 hospitals_07_2023.zip\n",
      "-rwxrwxrwx 1 root root 14318139 Oct 17 07:46 hospitals_07_2024.zip\n",
      "-rwxrwxrwx 1 root root 14769479 Oct 17 07:46 hospitals_10_2021.zip\n",
      "-rwxrwxrwx 1 root root 14753205 Oct 17 07:46 hospitals_10_2022.zip\n",
      "-rwxrwxrwx 1 root root 15878693 Oct 17 07:46 hospitals_10_2023.zip\n",
      "-rwxrwxrwx 1 root root 16527213 Oct 17 07:46 hospitals_11_2023.zip\n",
      "-rwxrwxrwx 1 root root 13002445 Oct 17 07:46 hospitals_archive_07_2020.zip\n",
      "-rwxrwxrwx 1 root root 14966863 Oct 17 07:46 hospitals_archive_10_2020.zip\n"
     ]
    }
   ],
   "source": [
    "%%bash\n",
    "ls -al data"
   ]
  },
  {
   "cell_type": "code",
   "execution_count": 31,
   "id": "08ccb981-bed2-4009-8143-42e94542507b",
   "metadata": {},
   "outputs": [
    {
     "data": {
      "text/plain": [
       "['./data\\\\hospitals_01_2021.zip',\n",
       " './data\\\\hospitals_01_2022.zip',\n",
       " './data\\\\hospitals_01_2023.zip',\n",
       " './data\\\\hospitals_01_2024.zip',\n",
       " './data\\\\hospitals_03_2021.zip',\n",
       " './data\\\\hospitals_04_2021.zip',\n",
       " './data\\\\hospitals_04_2022.zip',\n",
       " './data\\\\hospitals_04_2023.zip',\n",
       " './data\\\\hospitals_04_2024.zip',\n",
       " './data\\\\hospitals_07_2021.zip',\n",
       " './data\\\\hospitals_07_2022.zip',\n",
       " './data\\\\hospitals_07_2023.zip',\n",
       " './data\\\\hospitals_07_2024.zip',\n",
       " './data\\\\hospitals_10_2021.zip',\n",
       " './data\\\\hospitals_10_2022.zip',\n",
       " './data\\\\hospitals_10_2023.zip',\n",
       " './data\\\\hospitals_11_2023.zip',\n",
       " './data\\\\hospitals_archive_07_2020.zip',\n",
       " './data\\\\hospitals_archive_10_2020.zip',\n",
       " './data\\\\hos_archive_04_2017.zip',\n",
       " './data\\\\hos_revised_flatfiles_archive_01_2018.zip',\n",
       " './data\\\\hos_revised_flatfiles_archive_01_2020.zip',\n",
       " './data\\\\hos_revised_flatfiles_archive_03_2019.zip',\n",
       " './data\\\\hos_revised_flatfiles_archive_04_2017.zip',\n",
       " './data\\\\hos_revised_flatfiles_archive_04_2019.zip',\n",
       " './data\\\\hos_revised_flatfiles_archive_04_2020.zip',\n",
       " './data\\\\hos_revised_flatfiles_archive_05_2018.zip',\n",
       " './data\\\\hos_revised_flatfiles_archive_07_2017.zip',\n",
       " './data\\\\hos_revised_flatfiles_archive_07_2018.zip',\n",
       " './data\\\\hos_revised_flatfiles_archive_07_2019.zip',\n",
       " './data\\\\hos_revised_flatfiles_archive_10_2017.zip',\n",
       " './data\\\\hos_revised_flatfiles_archive_10_2018.zip',\n",
       " './data\\\\hos_revised_flatfiles_archive_10_2019.zip']"
      ]
     },
     "execution_count": 31,
     "metadata": {},
     "output_type": "execute_result"
    }
   ],
   "source": [
    "(all_monthly_zip :=\n",
    " glob('./data/*zip')\n",
    ")"
   ]
  },
  {
   "cell_type": "code",
   "execution_count": 42,
   "id": "feb77e07-4fa8-4e8c-b151-237b1a580361",
   "metadata": {},
   "outputs": [
    {
     "name": "stdout",
     "output_type": "stream",
     "text": [
      "Successfully unzipped file=./data\\hospitals_01_2021.zip\n",
      "Successfully unzipped file=./data\\hospitals_01_2022.zip\n",
      "Successfully unzipped file=./data\\hospitals_01_2023.zip\n",
      "Successfully unzipped file=./data\\hospitals_01_2024.zip\n",
      "Successfully unzipped file=./data\\hospitals_03_2021.zip\n",
      "Successfully unzipped file=./data\\hospitals_04_2021.zip\n",
      "Successfully unzipped file=./data\\hospitals_04_2022.zip\n",
      "Successfully unzipped file=./data\\hospitals_04_2023.zip\n",
      "Successfully unzipped file=./data\\hospitals_04_2024.zip\n",
      "Successfully unzipped file=./data\\hospitals_07_2021.zip\n",
      "Successfully unzipped file=./data\\hospitals_07_2022.zip\n",
      "Successfully unzipped file=./data\\hospitals_07_2023.zip\n",
      "Successfully unzipped file=./data\\hospitals_07_2024.zip\n",
      "Successfully unzipped file=./data\\hospitals_10_2021.zip\n",
      "Successfully unzipped file=./data\\hospitals_10_2022.zip\n",
      "Successfully unzipped file=./data\\hospitals_10_2023.zip\n",
      "Successfully unzipped file=./data\\hospitals_11_2023.zip\n",
      "Successfully unzipped file=./data\\hospitals_archive_07_2020.zip\n",
      "Successfully unzipped file=./data\\hospitals_archive_10_2020.zip\n",
      "Successfully unzipped file=./data\\hos_archive_04_2017.zip\n",
      "Successfully unzipped file=./data\\hos_revised_flatfiles_archive_01_2018.zip\n",
      "Successfully unzipped file=./data\\hos_revised_flatfiles_archive_01_2020.zip\n",
      "Successfully unzipped file=./data\\hos_revised_flatfiles_archive_03_2019.zip\n",
      "Successfully unzipped file=./data\\hos_revised_flatfiles_archive_04_2017.zip\n",
      "Successfully unzipped file=./data\\hos_revised_flatfiles_archive_04_2019.zip\n",
      "Successfully unzipped file=./data\\hos_revised_flatfiles_archive_04_2020.zip\n",
      "Successfully unzipped file=./data\\hos_revised_flatfiles_archive_05_2018.zip\n",
      "Successfully unzipped file=./data\\hos_revised_flatfiles_archive_07_2017.zip\n",
      "Successfully unzipped file=./data\\hos_revised_flatfiles_archive_07_2018.zip\n",
      "Successfully unzipped file=./data\\hos_revised_flatfiles_archive_07_2019.zip\n",
      "Successfully unzipped file=./data\\hos_revised_flatfiles_archive_10_2017.zip\n",
      "Successfully unzipped file=./data\\hos_revised_flatfiles_archive_10_2018.zip\n",
      "Successfully unzipped file=./data\\hos_revised_flatfiles_archive_10_2019.zip\n"
     ]
    }
   ],
   "source": [
    "for path in all_monthly_zip:\n",
    "    with zipfile.ZipFile(path, 'r') as zip_obj:\n",
    "        zip_obj.extractall('./data')\n",
    "        print(f'Successfully unzipped file={path}')"
   ]
  },
  {
   "cell_type": "markdown",
   "id": "1e399c1e-f5fd-4cf0-a2ec-4c67d0749d45",
   "metadata": {},
   "source": [
    "# Unzip monthly files - Attempt 2"
   ]
  },
  {
   "cell_type": "code",
   "execution_count": 43,
   "id": "0cd55b38-a0b0-480e-8f1f-b8edea3f7655",
   "metadata": {},
   "outputs": [
    {
     "data": {
      "text/plain": [
       "[('./data/hospitals_2021_01', './data\\\\hospitals_01_2021.zip'),\n",
       " ('./data/hospitals_2022_01', './data\\\\hospitals_01_2022.zip'),\n",
       " ('./data/hospitals_2023_01', './data\\\\hospitals_01_2023.zip'),\n",
       " ('./data/hospitals_2024_01', './data\\\\hospitals_01_2024.zip'),\n",
       " ('./data/hospitals_2021_03', './data\\\\hospitals_03_2021.zip'),\n",
       " ('./data/hospitals_2021_04', './data\\\\hospitals_04_2021.zip'),\n",
       " ('./data/hospitals_2022_04', './data\\\\hospitals_04_2022.zip'),\n",
       " ('./data/hospitals_2023_04', './data\\\\hospitals_04_2023.zip'),\n",
       " ('./data/hospitals_2024_04', './data\\\\hospitals_04_2024.zip'),\n",
       " ('./data/hospitals_2021_07', './data\\\\hospitals_07_2021.zip'),\n",
       " ('./data/hospitals_2022_07', './data\\\\hospitals_07_2022.zip'),\n",
       " ('./data/hospitals_2023_07', './data\\\\hospitals_07_2023.zip'),\n",
       " ('./data/hospitals_2024_07', './data\\\\hospitals_07_2024.zip'),\n",
       " ('./data/hospitals_2021_10', './data\\\\hospitals_10_2021.zip'),\n",
       " ('./data/hospitals_2022_10', './data\\\\hospitals_10_2022.zip'),\n",
       " ('./data/hospitals_2023_10', './data\\\\hospitals_10_2023.zip'),\n",
       " ('./data/hospitals_2023_11', './data\\\\hospitals_11_2023.zip'),\n",
       " ('./data/hospitals_2020_07', './data\\\\hospitals_archive_07_2020.zip'),\n",
       " ('./data/hospitals_2020_10', './data\\\\hospitals_archive_10_2020.zip'),\n",
       " ('./data/hospitals_2017_04', './data\\\\hos_archive_04_2017.zip'),\n",
       " ('./data/hospitals_2018_01',\n",
       "  './data\\\\hos_revised_flatfiles_archive_01_2018.zip'),\n",
       " ('./data/hospitals_2020_01',\n",
       "  './data\\\\hos_revised_flatfiles_archive_01_2020.zip'),\n",
       " ('./data/hospitals_2019_03',\n",
       "  './data\\\\hos_revised_flatfiles_archive_03_2019.zip'),\n",
       " ('./data/hospitals_2017_04',\n",
       "  './data\\\\hos_revised_flatfiles_archive_04_2017.zip'),\n",
       " ('./data/hospitals_2019_04',\n",
       "  './data\\\\hos_revised_flatfiles_archive_04_2019.zip'),\n",
       " ('./data/hospitals_2020_04',\n",
       "  './data\\\\hos_revised_flatfiles_archive_04_2020.zip'),\n",
       " ('./data/hospitals_2018_05',\n",
       "  './data\\\\hos_revised_flatfiles_archive_05_2018.zip'),\n",
       " ('./data/hospitals_2017_07',\n",
       "  './data\\\\hos_revised_flatfiles_archive_07_2017.zip'),\n",
       " ('./data/hospitals_2018_07',\n",
       "  './data\\\\hos_revised_flatfiles_archive_07_2018.zip'),\n",
       " ('./data/hospitals_2019_07',\n",
       "  './data\\\\hos_revised_flatfiles_archive_07_2019.zip'),\n",
       " ('./data/hospitals_2017_10',\n",
       "  './data\\\\hos_revised_flatfiles_archive_10_2017.zip'),\n",
       " ('./data/hospitals_2018_10',\n",
       "  './data\\\\hos_revised_flatfiles_archive_10_2018.zip'),\n",
       " ('./data/hospitals_2019_10',\n",
       "  './data\\\\hos_revised_flatfiles_archive_10_2019.zip')]"
      ]
     },
     "execution_count": 43,
     "metadata": {},
     "output_type": "execute_result"
    }
   ],
   "source": [
    "m_and_y = re.compile(r'^\\./data\\\\hos[a-z_]*(\\d{2})_(\\d{4})\\.zip$')\n",
    "\n",
    "(folder_and_path :=\n",
    "    [(f'./data/hospitals_{m_and_y.match(p).group(2)}_{m_and_y.match(p).group(1)}', # creating folders saving data into\n",
    "      p, # path to the folder\n",
    "     )\n",
    "     for p in all_monthly_zip]\n",
    ")\n",
    "\n",
    "#         folder              -              path"
   ]
  },
  {
   "cell_type": "code",
   "execution_count": 44,
   "id": "a4ce1b07-49a8-45bd-9e0d-1a9fd5e4ebe8",
   "metadata": {},
   "outputs": [
    {
     "name": "stdout",
     "output_type": "stream",
     "text": [
      "Successfully unzipped file=./data\\hospitals_01_2021.zip\n",
      "Successfully unzipped file=./data\\hospitals_01_2022.zip\n",
      "Successfully unzipped file=./data\\hospitals_01_2023.zip\n",
      "Successfully unzipped file=./data\\hospitals_01_2024.zip\n",
      "Successfully unzipped file=./data\\hospitals_03_2021.zip\n",
      "Successfully unzipped file=./data\\hospitals_04_2021.zip\n",
      "Successfully unzipped file=./data\\hospitals_04_2022.zip\n",
      "Successfully unzipped file=./data\\hospitals_04_2023.zip\n",
      "Successfully unzipped file=./data\\hospitals_04_2024.zip\n",
      "Successfully unzipped file=./data\\hospitals_07_2021.zip\n",
      "Successfully unzipped file=./data\\hospitals_07_2022.zip\n",
      "Successfully unzipped file=./data\\hospitals_07_2023.zip\n",
      "Successfully unzipped file=./data\\hospitals_07_2024.zip\n",
      "Successfully unzipped file=./data\\hospitals_10_2021.zip\n",
      "Successfully unzipped file=./data\\hospitals_10_2022.zip\n",
      "Successfully unzipped file=./data\\hospitals_10_2023.zip\n",
      "Successfully unzipped file=./data\\hospitals_11_2023.zip\n",
      "Successfully unzipped file=./data\\hospitals_archive_07_2020.zip\n",
      "Successfully unzipped file=./data\\hospitals_archive_10_2020.zip\n",
      "Successfully unzipped file=./data\\hos_archive_04_2017.zip\n",
      "Successfully unzipped file=./data\\hos_revised_flatfiles_archive_01_2018.zip\n",
      "Successfully unzipped file=./data\\hos_revised_flatfiles_archive_01_2020.zip\n",
      "Successfully unzipped file=./data\\hos_revised_flatfiles_archive_03_2019.zip\n",
      "Successfully unzipped file=./data\\hos_revised_flatfiles_archive_04_2017.zip\n",
      "Successfully unzipped file=./data\\hos_revised_flatfiles_archive_04_2019.zip\n",
      "Successfully unzipped file=./data\\hos_revised_flatfiles_archive_04_2020.zip\n",
      "Successfully unzipped file=./data\\hos_revised_flatfiles_archive_05_2018.zip\n",
      "Successfully unzipped file=./data\\hos_revised_flatfiles_archive_07_2017.zip\n",
      "Successfully unzipped file=./data\\hos_revised_flatfiles_archive_07_2018.zip\n",
      "Successfully unzipped file=./data\\hos_revised_flatfiles_archive_07_2019.zip\n",
      "Successfully unzipped file=./data\\hos_revised_flatfiles_archive_10_2017.zip\n",
      "Successfully unzipped file=./data\\hos_revised_flatfiles_archive_10_2018.zip\n",
      "Successfully unzipped file=./data\\hos_revised_flatfiles_archive_10_2019.zip\n"
     ]
    }
   ],
   "source": [
    "for folder, path in folder_and_path:\n",
    "    with zipfile.ZipFile(path, 'r') as zip_obj:       # unzipping the folders \n",
    "        zip_obj.extractall(folder)                    # saving the files into the folder\n",
    "        print(f'Successfully unzipped file={path}')"
   ]
  },
  {
   "cell_type": "markdown",
   "id": "6fdfaaef-a5b9-4683-810a-09beecb579d3",
   "metadata": {},
   "source": [
    "## Unzip monthly files - Attempt 3 - Unzip into monthly folder - adjusting for 2022 and 2023"
   ]
  },
  {
   "cell_type": "code",
   "execution_count": 45,
   "id": "82cbbc9c-7e99-43fe-989c-c015947ffc13",
   "metadata": {},
   "outputs": [
    {
     "data": {
      "text/plain": [
       "[('./data/hospitals_01_2021', './data\\\\hospitals_01_2021.zip'),\n",
       " ('./data', './data\\\\hospitals_01_2022.zip'),\n",
       " ('./data', './data\\\\hospitals_01_2023.zip'),\n",
       " ('./data/hospitals_01_2024', './data\\\\hospitals_01_2024.zip'),\n",
       " ('./data/hospitals_03_2021', './data\\\\hospitals_03_2021.zip'),\n",
       " ('./data/hospitals_04_2021', './data\\\\hospitals_04_2021.zip'),\n",
       " ('./data', './data\\\\hospitals_04_2022.zip'),\n",
       " ('./data', './data\\\\hospitals_04_2023.zip'),\n",
       " ('./data/hospitals_04_2024', './data\\\\hospitals_04_2024.zip'),\n",
       " ('./data/hospitals_07_2021', './data\\\\hospitals_07_2021.zip'),\n",
       " ('./data', './data\\\\hospitals_07_2022.zip'),\n",
       " ('./data', './data\\\\hospitals_07_2023.zip'),\n",
       " ('./data/hospitals_07_2024', './data\\\\hospitals_07_2024.zip'),\n",
       " ('./data/hospitals_10_2021', './data\\\\hospitals_10_2021.zip'),\n",
       " ('./data', './data\\\\hospitals_10_2022.zip'),\n",
       " ('./data', './data\\\\hospitals_10_2023.zip'),\n",
       " ('./data', './data\\\\hospitals_11_2023.zip'),\n",
       " ('./data/hospitals_07_2020', './data\\\\hospitals_archive_07_2020.zip'),\n",
       " ('./data/hospitals_10_2020', './data\\\\hospitals_archive_10_2020.zip'),\n",
       " ('./data/hospitals_04_2017', './data\\\\hos_archive_04_2017.zip'),\n",
       " ('./data/hospitals_01_2018',\n",
       "  './data\\\\hos_revised_flatfiles_archive_01_2018.zip'),\n",
       " ('./data/hospitals_01_2020',\n",
       "  './data\\\\hos_revised_flatfiles_archive_01_2020.zip'),\n",
       " ('./data/hospitals_03_2019',\n",
       "  './data\\\\hos_revised_flatfiles_archive_03_2019.zip'),\n",
       " ('./data/hospitals_04_2017',\n",
       "  './data\\\\hos_revised_flatfiles_archive_04_2017.zip'),\n",
       " ('./data/hospitals_04_2019',\n",
       "  './data\\\\hos_revised_flatfiles_archive_04_2019.zip'),\n",
       " ('./data/hospitals_04_2020',\n",
       "  './data\\\\hos_revised_flatfiles_archive_04_2020.zip'),\n",
       " ('./data/hospitals_05_2018',\n",
       "  './data\\\\hos_revised_flatfiles_archive_05_2018.zip'),\n",
       " ('./data/hospitals_07_2017',\n",
       "  './data\\\\hos_revised_flatfiles_archive_07_2017.zip'),\n",
       " ('./data/hospitals_07_2018',\n",
       "  './data\\\\hos_revised_flatfiles_archive_07_2018.zip'),\n",
       " ('./data/hospitals_07_2019',\n",
       "  './data\\\\hos_revised_flatfiles_archive_07_2019.zip'),\n",
       " ('./data/hospitals_10_2017',\n",
       "  './data\\\\hos_revised_flatfiles_archive_10_2017.zip'),\n",
       " ('./data/hospitals_10_2018',\n",
       "  './data\\\\hos_revised_flatfiles_archive_10_2018.zip'),\n",
       " ('./data/hospitals_10_2019',\n",
       "  './data\\\\hos_revised_flatfiles_archive_10_2019.zip')]"
      ]
     },
     "execution_count": 45,
     "metadata": {},
     "output_type": "execute_result"
    }
   ],
   "source": [
    "m_and_y = re.compile(r'^\\./data\\\\hos[a-z_]*(\\d{2})_(\\d{4})\\.zip$')     # regx to pull off 'month' and 'year'\n",
    "\n",
    "# helper functions to extract corresponding pieces\n",
    "# use 'match' and 'group' \n",
    "month    = lambda p: m_and_y.match(p).group(1)\n",
    "year     = lambda p: m_and_y.match(p).group(2)\n",
    "is_22_23 = lambda p: year(p) in ['2022', '2023']     # return True if year is either 2022 or 2023\n",
    "\n",
    "folder = lambda p: './data' if is_22_23(p) else f'./data/hospitals_{month(p)}_{year(p)}'\n",
    "\n",
    "(folder_and_path := \n",
    "    [(folder(p),\n",
    "     p,\n",
    "     )\n",
    "     for p in all_monthly_zip]\n",
    ")"
   ]
  },
  {
   "cell_type": "code",
   "execution_count": null,
   "id": "69a37b0a-435a-40b2-8c2b-e43f892b6ad1",
   "metadata": {},
   "outputs": [],
   "source": []
  }
 ],
 "metadata": {
  "kernelspec": {
   "display_name": "Python 3 (ipykernel)",
   "language": "python",
   "name": "python3"
  },
  "language_info": {
   "codemirror_mode": {
    "name": "ipython",
    "version": 3
   },
   "file_extension": ".py",
   "mimetype": "text/x-python",
   "name": "python",
   "nbconvert_exporter": "python",
   "pygments_lexer": "ipython3",
   "version": "3.12.5"
  }
 },
 "nbformat": 4,
 "nbformat_minor": 5
}
